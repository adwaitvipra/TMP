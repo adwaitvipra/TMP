{
 "cells": [
  {
   "cell_type": "markdown",
   "metadata": {},
   "source": [
    "## CNS ASSIGNMENT 5 - IMPLEMENTATION OF DIFFIE-HELLMAN ALGORITHM\n",
    "### MIS - 112003151 \n",
    "### NAME - ADWAIT VIPRA"
   ]
  },
  {
   "cell_type": "markdown",
   "metadata": {},
   "source": [
    "The Diffie-Hellman key exchange algorithm is a public-key cryptography protocol that allows two parties to establish a shared secret key over an insecure communication channel. Here's a brief overview of the Diffie-Hellman algorithm:\n",
    "\n",
    "1. **Key Generation:**\n",
    "   - Both parties, let's call them Alice and Bob, agree on two public parameters: a large prime number \\( p \\) and a primitive root modulo \\( p \\), often denoted as \\( g \\).\n",
    "   - Each party independently generates a private key: \\( a \\) for Alice and \\( b \\) for Bob. These keys are kept secret.\n",
    "\n",
    "2. **Public Key Calculation:**\n",
    "   - Using the agreed-upon \\( p \\) and \\( g \\), each party calculates a public key:\n",
    "     - Alice computes \\( A = g^a \\mod p \\)\n",
    "     - Bob computes \\( B = g^b \\mod p \\)\n",
    "\n",
    "3. **Key Exchange:**\n",
    "   - Alice and Bob exchange their public keys (\\( A \\) and \\( B \\)) over the insecure channel.\n",
    "\n",
    "4. **Shared Secret Calculation:**\n",
    "   - Alice, with her private key \\( a \\) and Bob's public key \\( B \\), computes the shared secret \\( S = B^a \\mod p \\).\n",
    "   - Bob, with his private key \\( b \\) and Alice's public key \\( A \\), computes the same shared secret \\( S = A^b \\mod p \\).\n",
    "\n",
    "5. **Result:**\n",
    "   - Both Alice and Bob now have a shared secret key \\( S \\) that can be used for secure communication.\n",
    "   - The strength of the Diffie-Hellman algorithm relies on the difficulty of the discrete logarithm problem, making it computationally infeasible for an eavesdropper to determine the shared secret even if the public keys are intercepted.\n",
    "\n",
    "The Diffie-Hellman key exchange is a foundational concept in modern cryptography and is widely used in various protocols, including secure socket layer (SSL) for securing web communication. It enables secure key establishment between parties without the need for pre-shared keys, allowing for secure communication over untrusted networks."
   ]
  },
  {
   "cell_type": "code",
   "execution_count": null,
   "metadata": {},
   "outputs": [],
   "source": [
    "#!/bin/python\n",
    "\n",
    "'''\n",
    "p is large prime\n",
    "q is primitve root of p\n",
    "\n",
    "a:\n",
    "xa: private key\n",
    "ya: public key (q^xa)mod(p)\n",
    "\n",
    "b:\n",
    "xb: private key\n",
    "yb: public key (q^xb)mod(p)\n",
    "\n",
    "ka = (yb^xa)mod(p)\n",
    "kb = (ya^xb)mod(p)\n",
    "'''"
   ]
  },
  {
   "cell_type": "code",
   "execution_count": 5,
   "metadata": {},
   "outputs": [
    {
     "name": "stdout",
     "output_type": "stream",
     "text": [
      "p =23\n",
      "q =5\n",
      "a =6\n",
      "b =15\n",
      "ya = 8\n",
      "yb = 19\n",
      "ka = 2\n",
      "kb = 2\n"
     ]
    }
   ],
   "source": [
    "def isvalid (p,xa):\n",
    "    if xa < p:\n",
    "        return True\n",
    "    return False\n",
    "\n",
    "def main ():\n",
    "    p = int(input(\"p =\"))\n",
    "    q = int(input(\"q =\"))\n",
    "\n",
    "    xa = int(input(\"a =\"))\n",
    "    xb = int(input(\"b =\"))\n",
    "\n",
    "    if isvalid (p, xa) and isvalid (p, xb):\n",
    "        ya = pow(q, xa) % p\n",
    "        yb = pow(q, xb) % p\n",
    "\n",
    "        print(\"ya =\", ya)\n",
    "        print(\"yb =\", yb)\n",
    "\n",
    "        ka = pow(yb, xa) % p\n",
    "        kb = pow(ya, xb) % p\n",
    "\n",
    "        print (\"ka =\", ka)\n",
    "        print (\"kb =\", kb)\n",
    "    else:\n",
    "        print(\"Invalid private keys!\\n\")\n",
    "\n",
    "if __name__ == \"__main__\":\n",
    "    main ()"
   ]
  }
 ],
 "metadata": {
  "kernelspec": {
   "display_name": "Python 3",
   "language": "python",
   "name": "python3"
  },
  "language_info": {
   "codemirror_mode": {
    "name": "ipython",
    "version": 3
   },
   "file_extension": ".py",
   "mimetype": "text/x-python",
   "name": "python",
   "nbconvert_exporter": "python",
   "pygments_lexer": "ipython3",
   "version": "3.7.3"
  }
 },
 "nbformat": 4,
 "nbformat_minor": 2
}
