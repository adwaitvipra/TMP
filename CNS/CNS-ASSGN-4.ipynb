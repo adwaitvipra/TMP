{
 "cells": [
  {
   "cell_type": "markdown",
   "metadata": {},
   "source": [
    "## CNS ASSIGNMENT 4 - IMPLEMENTATION OF OWN CRYPTOGRAPHIC ALGORITHM : CRYPTIT\n",
    "### MIS - 112003151 \n",
    "### NAME - ADWAIT VIPRA"
   ]
  },
  {
   "cell_type": "markdown",
   "metadata": {},
   "source": [
    "The `cryptit` program defines a simple encryption and decryption scheme using a key. Here's a brief description of each function and the main program:\n",
    "\n",
    "1. `xenc(ch, key)`: XOR-based encryption function that takes a character `ch` and a key, performs bitwise XOR, and adds the key to the result.\n",
    "\n",
    "2. `xdec(cd, key)`: XOR-based decryption function that takes a ciphered character `cd` and a key, subtracts the key, and then performs bitwise XOR.\n",
    "\n",
    "3. `encrypt(msg, key)`: Takes a message `msg` and a key, iterates through each character in the message, encrypts it using the `xenc` function, and constructs the ciphertext.\n",
    "\n",
    "4. `decrypt(cph, key)`: Takes a ciphertext `cph` and a key, iterates through each character in the ciphertext, decrypts it using the `xdec` function, and constructs the decrypted message.\n",
    "\n",
    "5. `main()`: The main program where the user is prompted to enter a message and a key. It then encrypts and decrypts the message using the provided key and prints the original message, ciphertext, and the decrypted message."
   ]
  },
  {
   "cell_type": "code",
   "execution_count": 1,
   "metadata": {},
   "outputs": [
    {
     "name": "stdout",
     "output_type": "stream",
     "text": [
      "Enter Message: SECRET\n",
      "Enter Key (Integer): 1729\n",
      "Encrypted Plaintext: SECRET\n",
      "Ciphertext: ൓൅ൃൔ൅ൖ\n",
      "Decrypted Plaintext: SECRET\n"
     ]
    }
   ],
   "source": [
    "#!/bin/python\n",
    "\n",
    "def xenc(ch, key):\n",
    "    cd = (key ^ ch) + key\n",
    "    return cd\n",
    "\n",
    "def xdec(cd, key):\n",
    "    ch = (cd - key) ^ key\n",
    "    return ch\n",
    "\n",
    "def encrypt(msg, key):\n",
    "    cph = \"\"\n",
    "    for ch in msg:\n",
    "        cph += chr(xenc(ord(ch), key) % 0x110000)\n",
    "    return cph\n",
    "\n",
    "def decrypt(cph, key):\n",
    "    ans = \"\"\n",
    "    for cd in cph:\n",
    "        ans += chr(xdec(ord(cd), key) % 0x110000)\n",
    "    return ans\n",
    "\n",
    "def main():\n",
    "    msg = input(\"Enter Message: \")\n",
    "    key = int(input(\"Enter Key (Integer): \"))\n",
    "\n",
    "    cph = encrypt(msg, key)\n",
    "    ans = decrypt(cph, key)\n",
    "\n",
    "    print(\"Encrypted Plaintext:\", msg)\n",
    "    print(\"Ciphertext:\", cph)\n",
    "    print(\"Decrypted Plaintext:\", ans)\n",
    "\n",
    "if __name__ == \"__main__\":\n",
    "    main()\n"
   ]
  }
 ],
 "metadata": {
  "kernelspec": {
   "display_name": "Python 3",
   "language": "python",
   "name": "python3"
  },
  "language_info": {
   "codemirror_mode": {
    "name": "ipython",
    "version": 3
   },
   "file_extension": ".py",
   "mimetype": "text/x-python",
   "name": "python",
   "nbconvert_exporter": "python",
   "pygments_lexer": "ipython3",
   "version": "3.7.3"
  }
 },
 "nbformat": 4,
 "nbformat_minor": 2
}
